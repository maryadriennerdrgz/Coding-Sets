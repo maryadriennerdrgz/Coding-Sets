{
  "nbformat": 4,
  "nbformat_minor": 0,
  "metadata": {
    "colab": {
      "name": "DiscreteMath_Rodriguez_CodingActivity.ipynb",
      "provenance": [],
      "collapsed_sections": [],
      "authorship_tag": "ABX9TyP74PJPeEgsXoRNh3h0+rhL",
      "include_colab_link": true
    },
    "kernelspec": {
      "name": "python3",
      "display_name": "Python 3"
    }
  },
  "cells": [
    {
      "cell_type": "markdown",
      "metadata": {
        "id": "view-in-github",
        "colab_type": "text"
      },
      "source": [
        "<a href=\"https://colab.research.google.com/github/maryadriennerdrgz/Coding-Sets/blob/main/DiscreteMath_Rodriguez_CodingActivity.ipynb\" target=\"_parent\"><img src=\"https://colab.research.google.com/assets/colab-badge.svg\" alt=\"Open In Colab\"/></a>"
      ]
    },
    {
      "cell_type": "markdown",
      "metadata": {
        "id": "R7M53rfAD8Ma"
      },
      "source": [
        "#**Set Theory**\n",
        "This code activity will try to guide you in applying the concepts, methods, and rules of Set Theory through code. We will go through with the data types in which Set Theory can be applied, how to write them in equation form im $\\LaTeX$, and then we will try to look at a practical example through a user's requirement.<br>\n"
      ]
    },
    {
      "cell_type": "markdown",
      "metadata": {
        "id": "J6uYIW2QEPhT"
      },
      "source": [
        "####**Lists**\n",
        "In Python, the most common iterable collection are lists. In lists, elements are ordered and chageable. Lists are denoted by enclosing objects with square brackets $[ ... ]$. Lists can be accessed through their indices, negative indexing is permitted."
      ]
    },
    {
      "cell_type": "code",
      "metadata": {
        "id": "cywW4M3aEUyA"
      },
      "source": [
        "### Declaration\n",
        "employees = ['John', 'Alex', 'Winston', 'Bob', 'Golbi'] ## Best practice when making a list of objects, list variable names should be in plural form"
      ],
      "execution_count": 1,
      "outputs": []
    },
    {
      "cell_type": "code",
      "metadata": {
        "id": "BoQUJzq2EYKa",
        "colab": {
          "base_uri": "https://localhost:8080/",
          "height": 35
        },
        "outputId": "f2d8dba9-c411-4404-f23e-aa6fa774a234"
      },
      "source": [
        "### Single Access\n",
        "employees[-2]"
      ],
      "execution_count": 2,
      "outputs": [
        {
          "output_type": "execute_result",
          "data": {
            "application/vnd.google.colaboratory.intrinsic+json": {
              "type": "string"
            },
            "text/plain": [
              "'Bob'"
            ]
          },
          "metadata": {
            "tags": []
          },
          "execution_count": 2
        }
      ]
    },
    {
      "cell_type": "code",
      "metadata": {
        "id": "mYjY9QkIEafZ",
        "colab": {
          "base_uri": "https://localhost:8080/"
        },
        "outputId": "a5ebc8e6-802b-4cc7-b34f-444a52f28f47"
      },
      "source": [
        "### Multiple Access\n",
        "employees[::-1]"
      ],
      "execution_count": 3,
      "outputs": [
        {
          "output_type": "execute_result",
          "data": {
            "text/plain": [
              "['Golbi', 'Bob', 'Winston', 'Alex', 'John']"
            ]
          },
          "metadata": {
            "tags": []
          },
          "execution_count": 3
        }
      ]
    },
    {
      "cell_type": "code",
      "metadata": {
        "id": "lSdL4mXUEdXQ",
        "colab": {
          "base_uri": "https://localhost:8080/"
        },
        "outputId": "a1c0fa48-a8f5-4720-adb2-22095e22cd35"
      },
      "source": [
        "### Multiple Access via Loops\n",
        "for employee in employees: ## To make coding a bit more intuitive, we use the singular form of the list variable name to denote its elements.\n",
        "    print(\"Hi \",employee)"
      ],
      "execution_count": 4,
      "outputs": [
        {
          "output_type": "stream",
          "text": [
            "Hi  John\n",
            "Hi  Alex\n",
            "Hi  Winston\n",
            "Hi  Bob\n",
            "Hi  Golbi\n"
          ],
          "name": "stdout"
        }
      ]
    },
    {
      "cell_type": "code",
      "metadata": {
        "id": "L1n9YHrrEff5",
        "colab": {
          "base_uri": "https://localhost:8080/"
        },
        "outputId": "baca5390-5d60-4771-abc0-a7538c7399de"
      },
      "source": [
        "### Multiple Access via Loops\n",
        "\n",
        "for i in range(len(employees)): ## You could also use indices for iterations.\n",
        "    if(i%2 == 0):\n",
        "        print(employees[i])"
      ],
      "execution_count": 5,
      "outputs": [
        {
          "output_type": "stream",
          "text": [
            "John\n",
            "Winston\n",
            "Golbi\n"
          ],
          "name": "stdout"
        }
      ]
    },
    {
      "cell_type": "code",
      "metadata": {
        "id": "uCrqXAodEjSZ",
        "colab": {
          "base_uri": "https://localhost:8080/"
        },
        "outputId": "0aa9adaf-4ee1-41b6-f86e-c12a10f83a0b"
      },
      "source": [
        "### Modifying Elements\n",
        "employees[3] = 'John'\n",
        "employees[-1] = 'Jimmy'\n",
        "print(employees)"
      ],
      "execution_count": 6,
      "outputs": [
        {
          "output_type": "stream",
          "text": [
            "['John', 'Alex', 'Winston', 'John', 'Jimmy']\n"
          ],
          "name": "stdout"
        }
      ]
    },
    {
      "cell_type": "code",
      "metadata": {
        "id": "ax9rH4jZEkyY",
        "colab": {
          "base_uri": "https://localhost:8080/"
        },
        "outputId": "035e967e-e342-48ca-c8a3-8b114e536186"
      },
      "source": [
        "### Adding Elements\n",
        "# employees.append(\"Elfaba\")\n",
        "\n",
        "employees.insert(2, \"Ozai\")\n",
        "print(employees)"
      ],
      "execution_count": 7,
      "outputs": [
        {
          "output_type": "stream",
          "text": [
            "['John', 'Alex', 'Ozai', 'Winston', 'John', 'Jimmy']\n"
          ],
          "name": "stdout"
        }
      ]
    },
    {
      "cell_type": "code",
      "metadata": {
        "id": "y2EIwx21EnGh",
        "colab": {
          "base_uri": "https://localhost:8080/"
        },
        "outputId": "46152dc6-9966-481d-adbd-89c94546efeb"
      },
      "source": [
        "### Removing Elements\n",
        "# employees.pop() \n",
        "\n",
        "# employees.remove(\"Ozai\")\n",
        "\n",
        "# del employees[-1]\n",
        "\n",
        "employees.clear()\n",
        "employees"
      ],
      "execution_count": 8,
      "outputs": [
        {
          "output_type": "execute_result",
          "data": {
            "text/plain": [
              "[]"
            ]
          },
          "metadata": {
            "tags": []
          },
          "execution_count": 8
        }
      ]
    },
    {
      "cell_type": "markdown",
      "metadata": {
        "id": "m0U00sQSFL8Z"
      },
      "source": [
        "####**Tuples**\n",
        "Tuples are another collection data type in Python. There are several key differences between lists and tuples:\n",
        "*   Tuples are ordered collections, so order cannot be rearranged or modified.\n",
        "*   Since tuples are ordered collections $(a, b) \\neq (b, a)$\n",
        "*   They are declared and denoted using parentheses $( ...)$"
      ]
    },
    {
      "cell_type": "code",
      "metadata": {
        "id": "ZJRwYqQVLqO6"
      },
      "source": [
        "### Declaration\n",
        "pix1_colors = (255, 0 , 0)  ## In image processing, this is called a tuple consisting of channels. \n",
        "                            ##It is structured as (Red, Green, Blue) such that the values in each channe; ranges from 0 - 255 \n",
        "pix2_colors = (64, 128, 111)"
      ],
      "execution_count": 9,
      "outputs": []
    },
    {
      "cell_type": "code",
      "metadata": {
        "id": "oozlU6dBLu0B",
        "colab": {
          "base_uri": "https://localhost:8080/"
        },
        "outputId": "ff13fc7b-f1bc-481f-9e01-42415ada22b2"
      },
      "source": [
        "### Single Access\n",
        "green = pix2_colors[1]\n",
        "green"
      ],
      "execution_count": 10,
      "outputs": [
        {
          "output_type": "execute_result",
          "data": {
            "text/plain": [
              "128"
            ]
          },
          "metadata": {
            "tags": []
          },
          "execution_count": 10
        }
      ]
    },
    {
      "cell_type": "code",
      "metadata": {
        "id": "pzwP23w1LyAZ",
        "colab": {
          "base_uri": "https://localhost:8080/",
          "height": 163
        },
        "outputId": "42a930b2-227c-4573-b4ea-d395506b7c7e"
      },
      "source": [
        "pix1_colors[2] = 128"
      ],
      "execution_count": 13,
      "outputs": [
        {
          "output_type": "error",
          "ename": "TypeError",
          "evalue": "ignored",
          "traceback": [
            "\u001b[0;31m---------------------------------------------------------------------------\u001b[0m",
            "\u001b[0;31mTypeError\u001b[0m                                 Traceback (most recent call last)",
            "\u001b[0;32m<ipython-input-13-92279de707a4>\u001b[0m in \u001b[0;36m<module>\u001b[0;34m()\u001b[0m\n\u001b[0;32m----> 1\u001b[0;31m \u001b[0mpix1_colors\u001b[0m\u001b[0;34m[\u001b[0m\u001b[0;36m2\u001b[0m\u001b[0;34m]\u001b[0m \u001b[0;34m=\u001b[0m \u001b[0;36m128\u001b[0m\u001b[0;34m\u001b[0m\u001b[0;34m\u001b[0m\u001b[0m\n\u001b[0m",
            "\u001b[0;31mTypeError\u001b[0m: 'tuple' object does not support item assignment"
          ]
        }
      ]
    },
    {
      "cell_type": "code",
      "metadata": {
        "id": "X2Z8Kt6gL2fI",
        "colab": {
          "base_uri": "https://localhost:8080/"
        },
        "outputId": "3a087343-1f54-4602-c5f6-d3e798ba5d71"
      },
      "source": [
        "### Multiple Access\n",
        "pix2_colors[::2]"
      ],
      "execution_count": 14,
      "outputs": [
        {
          "output_type": "execute_result",
          "data": {
            "text/plain": [
              "(64, 111)"
            ]
          },
          "metadata": {
            "tags": []
          },
          "execution_count": 14
        }
      ]
    },
    {
      "cell_type": "code",
      "metadata": {
        "id": "HUb2DyXwL4ZQ",
        "colab": {
          "base_uri": "https://localhost:8080/"
        },
        "outputId": "75898b2b-0d53-480d-ce92-19e9e0103e4c"
      },
      "source": [
        "### Multiple Access via Loops\n",
        "for color in pix2_colors:\n",
        "    print(color)"
      ],
      "execution_count": 15,
      "outputs": [
        {
          "output_type": "stream",
          "text": [
            "64\n",
            "128\n",
            "111\n"
          ],
          "name": "stdout"
        }
      ]
    },
    {
      "cell_type": "code",
      "metadata": {
        "id": "avO2gxjpL6GR",
        "colab": {
          "base_uri": "https://localhost:8080/"
        },
        "outputId": "34992213-47d0-4ef2-f2c0-a34210566ca9"
      },
      "source": [
        "car_xpos = (3, 5, 12, 15)\n",
        "car_ypos = (0, 1, 5, 2)\n",
        "### Multiple Access via Parallel Iteration\n",
        "for pos in zip(car_xpos, car_ypos):\n",
        "    print(f'Coordinates of cars in ordered pair form: {pos}')"
      ],
      "execution_count": 16,
      "outputs": [
        {
          "output_type": "stream",
          "text": [
            "Coordinates of cars in ordered pair form: (3, 0)\n",
            "Coordinates of cars in ordered pair form: (5, 1)\n",
            "Coordinates of cars in ordered pair form: (12, 5)\n",
            "Coordinates of cars in ordered pair form: (15, 2)\n"
          ],
          "name": "stdout"
        }
      ]
    },
    {
      "cell_type": "code",
      "metadata": {
        "id": "6zmfFUbqL8z5",
        "colab": {
          "base_uri": "https://localhost:8080/"
        },
        "outputId": "6e7780a5-a107-4bdb-d5b4-737b2fbf40c3"
      },
      "source": [
        "for px_colors in zip(pix1_colors, pix2_colors):\n",
        "    print(px_colors)"
      ],
      "execution_count": 17,
      "outputs": [
        {
          "output_type": "stream",
          "text": [
            "(255, 64)\n",
            "(0, 128)\n",
            "(0, 111)\n"
          ],
          "name": "stdout"
        }
      ]
    },
    {
      "cell_type": "code",
      "metadata": {
        "id": "yb2jacxXL-jA",
        "colab": {
          "base_uri": "https://localhost:8080/",
          "height": 197
        },
        "outputId": "a38bb619-4a1b-46db-de6f-0f0fa28c92f4"
      },
      "source": [
        "### Modifying Elements\n",
        "\n",
        "car_xpos[0] = 0"
      ],
      "execution_count": 18,
      "outputs": [
        {
          "output_type": "error",
          "ename": "TypeError",
          "evalue": "ignored",
          "traceback": [
            "\u001b[0;31m---------------------------------------------------------------------------\u001b[0m",
            "\u001b[0;31mTypeError\u001b[0m                                 Traceback (most recent call last)",
            "\u001b[0;32m<ipython-input-18-9e3d25433a12>\u001b[0m in \u001b[0;36m<module>\u001b[0;34m()\u001b[0m\n\u001b[1;32m      1\u001b[0m \u001b[0;31m### Modifying Elements\u001b[0m\u001b[0;34m\u001b[0m\u001b[0;34m\u001b[0m\u001b[0;34m\u001b[0m\u001b[0m\n\u001b[1;32m      2\u001b[0m \u001b[0;34m\u001b[0m\u001b[0m\n\u001b[0;32m----> 3\u001b[0;31m \u001b[0mcar_xpos\u001b[0m\u001b[0;34m[\u001b[0m\u001b[0;36m0\u001b[0m\u001b[0;34m]\u001b[0m \u001b[0;34m=\u001b[0m \u001b[0;36m0\u001b[0m\u001b[0;34m\u001b[0m\u001b[0;34m\u001b[0m\u001b[0m\n\u001b[0m",
            "\u001b[0;31mTypeError\u001b[0m: 'tuple' object does not support item assignment"
          ]
        }
      ]
    },
    {
      "cell_type": "code",
      "metadata": {
        "id": "Ixh1xYthMAaQ",
        "colab": {
          "base_uri": "https://localhost:8080/",
          "height": 197
        },
        "outputId": "af936e03-47e7-4eb9-9ffd-a365832fc06d"
      },
      "source": [
        "### Removing Elements\n",
        "\n",
        "del pix1_colors[0]"
      ],
      "execution_count": 19,
      "outputs": [
        {
          "output_type": "error",
          "ename": "TypeError",
          "evalue": "ignored",
          "traceback": [
            "\u001b[0;31m---------------------------------------------------------------------------\u001b[0m",
            "\u001b[0;31mTypeError\u001b[0m                                 Traceback (most recent call last)",
            "\u001b[0;32m<ipython-input-19-531563a974fc>\u001b[0m in \u001b[0;36m<module>\u001b[0;34m()\u001b[0m\n\u001b[1;32m      1\u001b[0m \u001b[0;31m### Removing Elements\u001b[0m\u001b[0;34m\u001b[0m\u001b[0;34m\u001b[0m\u001b[0;34m\u001b[0m\u001b[0m\n\u001b[1;32m      2\u001b[0m \u001b[0;34m\u001b[0m\u001b[0m\n\u001b[0;32m----> 3\u001b[0;31m \u001b[0;32mdel\u001b[0m \u001b[0mpix1_colors\u001b[0m\u001b[0;34m[\u001b[0m\u001b[0;36m0\u001b[0m\u001b[0;34m]\u001b[0m\u001b[0;34m\u001b[0m\u001b[0;34m\u001b[0m\u001b[0m\n\u001b[0m",
            "\u001b[0;31mTypeError\u001b[0m: 'tuple' object doesn't support item deletion"
          ]
        }
      ]
    },
    {
      "cell_type": "code",
      "metadata": {
        "id": "1LiG_1iiMDOQ",
        "colab": {
          "base_uri": "https://localhost:8080/"
        },
        "outputId": "ec04bdf3-b3d9-4614-e4e3-6c415bc90c5b"
      },
      "source": [
        "### Merging Tuples\n",
        "car_pos = car_xpos + car_ypos\n",
        "car_pos"
      ],
      "execution_count": 20,
      "outputs": [
        {
          "output_type": "execute_result",
          "data": {
            "text/plain": [
              "(3, 5, 12, 15, 0, 1, 5, 2)"
            ]
          },
          "metadata": {
            "tags": []
          },
          "execution_count": 20
        }
      ]
    },
    {
      "cell_type": "markdown",
      "metadata": {
        "id": "Q43xMVJQMIBx"
      },
      "source": [
        "####**Tuples**\n",
        "Sets are collections which are unordered and unindexed. Repititions are not allowed in set structures and they are denoted by curly brackets $\\{ ... \\}$."
      ]
    },
    {
      "cell_type": "code",
      "metadata": {
        "id": "nNUOjxdIMNGw"
      },
      "source": [
        "### Declaration\n",
        "bakery_A = {'bread', 'cracker', 'croissant', 'eclair', 'parfait','cannele', 'coffee','tea'}\n",
        "bakery_B = {'bread', 'croissant', 'donuts', 'cinnamon roll', 'cookies','coffee','tea'}\n",
        "bakery_C = {'bread', 'bread', 'bread'}"
      ],
      "execution_count": 21,
      "outputs": []
    },
    {
      "cell_type": "code",
      "metadata": {
        "id": "SL1-hIyuMPkI",
        "colab": {
          "base_uri": "https://localhost:8080/"
        },
        "outputId": "dd4c3447-00f2-4192-e076-4e053fae4d35"
      },
      "source": [
        "print(bakery_C)"
      ],
      "execution_count": 23,
      "outputs": [
        {
          "output_type": "stream",
          "text": [
            "{'bread'}\n"
          ],
          "name": "stdout"
        }
      ]
    },
    {
      "cell_type": "code",
      "metadata": {
        "id": "P5ShzuDSMSHZ",
        "colab": {
          "base_uri": "https://localhost:8080/",
          "height": 180
        },
        "outputId": "94e6397d-739d-4e30-f357-4fb38af5137f"
      },
      "source": [
        "### Accessing Elements\n",
        "bakery_A[0]"
      ],
      "execution_count": 24,
      "outputs": [
        {
          "output_type": "error",
          "ename": "TypeError",
          "evalue": "ignored",
          "traceback": [
            "\u001b[0;31m---------------------------------------------------------------------------\u001b[0m",
            "\u001b[0;31mTypeError\u001b[0m                                 Traceback (most recent call last)",
            "\u001b[0;32m<ipython-input-24-f0826fdf6907>\u001b[0m in \u001b[0;36m<module>\u001b[0;34m()\u001b[0m\n\u001b[1;32m      1\u001b[0m \u001b[0;31m### Accessing Elements\u001b[0m\u001b[0;34m\u001b[0m\u001b[0;34m\u001b[0m\u001b[0;34m\u001b[0m\u001b[0m\n\u001b[0;32m----> 2\u001b[0;31m \u001b[0mbakery_A\u001b[0m\u001b[0;34m[\u001b[0m\u001b[0;36m0\u001b[0m\u001b[0;34m]\u001b[0m\u001b[0;34m\u001b[0m\u001b[0;34m\u001b[0m\u001b[0m\n\u001b[0m",
            "\u001b[0;31mTypeError\u001b[0m: 'set' object does not support indexing"
          ]
        }
      ]
    },
    {
      "cell_type": "code",
      "metadata": {
        "id": "QXOXNZUoMZHq",
        "colab": {
          "base_uri": "https://localhost:8080/"
        },
        "outputId": "1605df54-dbe1-4f9b-ad5a-fb44832277ff"
      },
      "source": [
        "### Multiple Access via Loops\n",
        "for product in bakery_A:\n",
        "    print(product)"
      ],
      "execution_count": 27,
      "outputs": [
        {
          "output_type": "stream",
          "text": [
            "tea\n",
            "parfait\n",
            "cracker\n",
            "croissant\n",
            "coffee\n",
            "bread\n",
            "eclair\n"
          ],
          "name": "stdout"
        }
      ]
    },
    {
      "cell_type": "code",
      "metadata": {
        "id": "jjIzdyHQNI25",
        "colab": {
          "base_uri": "https://localhost:8080/",
          "height": 231
        },
        "outputId": "cf76947d-8029-46ad-f4e6-3236923de631"
      },
      "source": [
        "### Removing an Element\n",
        "print(bakery_A)\n",
        "bakery_A.remove('cannele')\n",
        "print(bakery_A)"
      ],
      "execution_count": 28,
      "outputs": [
        {
          "output_type": "stream",
          "text": [
            "{'tea', 'parfait', 'cracker', 'croissant', 'coffee', 'bread', 'eclair'}\n"
          ],
          "name": "stdout"
        },
        {
          "output_type": "error",
          "ename": "KeyError",
          "evalue": "ignored",
          "traceback": [
            "\u001b[0;31m---------------------------------------------------------------------------\u001b[0m",
            "\u001b[0;31mKeyError\u001b[0m                                  Traceback (most recent call last)",
            "\u001b[0;32m<ipython-input-28-021c258a659c>\u001b[0m in \u001b[0;36m<module>\u001b[0;34m()\u001b[0m\n\u001b[1;32m      1\u001b[0m \u001b[0;31m### Removing an Element\u001b[0m\u001b[0;34m\u001b[0m\u001b[0;34m\u001b[0m\u001b[0;34m\u001b[0m\u001b[0m\n\u001b[1;32m      2\u001b[0m \u001b[0mprint\u001b[0m\u001b[0;34m(\u001b[0m\u001b[0mbakery_A\u001b[0m\u001b[0;34m)\u001b[0m\u001b[0;34m\u001b[0m\u001b[0;34m\u001b[0m\u001b[0m\n\u001b[0;32m----> 3\u001b[0;31m \u001b[0mbakery_A\u001b[0m\u001b[0;34m.\u001b[0m\u001b[0mremove\u001b[0m\u001b[0;34m(\u001b[0m\u001b[0;34m'cannele'\u001b[0m\u001b[0;34m)\u001b[0m\u001b[0;34m\u001b[0m\u001b[0;34m\u001b[0m\u001b[0m\n\u001b[0m\u001b[1;32m      4\u001b[0m \u001b[0mprint\u001b[0m\u001b[0;34m(\u001b[0m\u001b[0mbakery_A\u001b[0m\u001b[0;34m)\u001b[0m\u001b[0;34m\u001b[0m\u001b[0;34m\u001b[0m\u001b[0m\n",
            "\u001b[0;31mKeyError\u001b[0m: 'cannele'"
          ]
        }
      ]
    },
    {
      "cell_type": "code",
      "metadata": {
        "id": "nNp-b50YNLDR",
        "colab": {
          "base_uri": "https://localhost:8080/"
        },
        "outputId": "0e69d13b-ad8e-4655-9a89-a0f92c7d1886"
      },
      "source": [
        "### Membership\n",
        "# print('cannele' in bakery_A)\n",
        "### Subsets\n",
        "order = {'coffee', 'tea', 'donuts'}\n",
        "order.issubset(bakery_A)"
      ],
      "execution_count": 29,
      "outputs": [
        {
          "output_type": "execute_result",
          "data": {
            "text/plain": [
              "False"
            ]
          },
          "metadata": {
            "tags": []
          },
          "execution_count": 29
        }
      ]
    },
    {
      "cell_type": "code",
      "metadata": {
        "id": "JzH566umNOKx",
        "colab": {
          "base_uri": "https://localhost:8080/"
        },
        "outputId": "e49ac410-b2fd-420a-9b50-144ad832a841"
      },
      "source": [
        "### Union\n",
        "print(bakery_A)\n",
        "print(bakery_B)\n",
        "baker_st = bakery_A.union(bakery_B)\n",
        "baker_st"
      ],
      "execution_count": 30,
      "outputs": [
        {
          "output_type": "stream",
          "text": [
            "{'tea', 'parfait', 'cracker', 'croissant', 'coffee', 'bread', 'eclair'}\n",
            "{'cinnamon roll', 'tea', 'croissant', 'bread', 'donuts', 'coffee', 'cookies'}\n"
          ],
          "name": "stdout"
        },
        {
          "output_type": "execute_result",
          "data": {
            "text/plain": [
              "{'bread',\n",
              " 'cinnamon roll',\n",
              " 'coffee',\n",
              " 'cookies',\n",
              " 'cracker',\n",
              " 'croissant',\n",
              " 'donuts',\n",
              " 'eclair',\n",
              " 'parfait',\n",
              " 'tea'}"
            ]
          },
          "metadata": {
            "tags": []
          },
          "execution_count": 30
        }
      ]
    },
    {
      "cell_type": "code",
      "metadata": {
        "id": "jBkTrLjfNSWZ",
        "colab": {
          "base_uri": "https://localhost:8080/"
        },
        "outputId": "f42d2f58-5c84-4e2d-a487-f0f911bb5086"
      },
      "source": [
        "### Intersection\n",
        "bakery_A.intersection(bakery_B)"
      ],
      "execution_count": 31,
      "outputs": [
        {
          "output_type": "execute_result",
          "data": {
            "text/plain": [
              "{'bread', 'coffee', 'croissant', 'tea'}"
            ]
          },
          "metadata": {
            "tags": []
          },
          "execution_count": 31
        }
      ]
    },
    {
      "cell_type": "code",
      "metadata": {
        "id": "XDtOAdctNY5o",
        "colab": {
          "base_uri": "https://localhost:8080/"
        },
        "outputId": "40915a03-d7ec-432f-c10c-f4cb9ecc9a99"
      },
      "source": [
        "### Difference\n",
        "### Unique elements that is in Bakery but not in Bakery B\n",
        "bakery_B.difference(bakery_A)"
      ],
      "execution_count": 32,
      "outputs": [
        {
          "output_type": "execute_result",
          "data": {
            "text/plain": [
              "{'cinnamon roll', 'cookies', 'donuts'}"
            ]
          },
          "metadata": {
            "tags": []
          },
          "execution_count": 32
        }
      ]
    },
    {
      "cell_type": "markdown",
      "metadata": {
        "id": "1wxY0Rd4NgJZ"
      },
      "source": [
        "####**Dictionaries**\n",
        "Dictionaries are collections which is unordered, changeable like sets but are indexed. Like sets, they are denoted witn $\\{...\\}$ but objects are characterized by keys and described using values."
      ]
    },
    {
      "cell_type": "code",
      "metadata": {
        "id": "XratJH8eNl-J"
      },
      "source": [
        "### Declaration\n",
        "bakery_A_prices = {'bread' : 60, \n",
        "            'cracker': 15, \n",
        "            'croissant': 40, \n",
        "           }"
      ],
      "execution_count": 33,
      "outputs": []
    },
    {
      "cell_type": "code",
      "metadata": {
        "id": "fjBIs_uoNpfZ",
        "colab": {
          "base_uri": "https://localhost:8080/"
        },
        "outputId": "8fbd35ec-8129-4e0f-855b-f3de9be8c474"
      },
      "source": [
        "## Accessing\n",
        "bakery_A_prices['bread']"
      ],
      "execution_count": 34,
      "outputs": [
        {
          "output_type": "execute_result",
          "data": {
            "text/plain": [
              "60"
            ]
          },
          "metadata": {
            "tags": []
          },
          "execution_count": 34
        }
      ]
    },
    {
      "cell_type": "code",
      "metadata": {
        "id": "xnQzDID0NtW5",
        "colab": {
          "base_uri": "https://localhost:8080/"
        },
        "outputId": "24289ca3-3b97-4104-e806-28c2836670f2"
      },
      "source": [
        "## Accessing via Loops\n",
        "for product in bakery_A_prices:\n",
        "    print(product)"
      ],
      "execution_count": 35,
      "outputs": [
        {
          "output_type": "stream",
          "text": [
            "bread\n",
            "cracker\n",
            "croissant\n"
          ],
          "name": "stdout"
        }
      ]
    },
    {
      "cell_type": "code",
      "metadata": {
        "id": "fGjYNqWoNzPZ",
        "colab": {
          "base_uri": "https://localhost:8080/"
        },
        "outputId": "5cf30bca-5d70-4328-d4d5-a2b697739fb4"
      },
      "source": [
        "for product in bakery_A_prices:\n",
        "    print(bakery_A_prices[product])"
      ],
      "execution_count": 36,
      "outputs": [
        {
          "output_type": "stream",
          "text": [
            "60\n",
            "15\n",
            "40\n"
          ],
          "name": "stdout"
        }
      ]
    },
    {
      "cell_type": "code",
      "metadata": {
        "id": "M6jc9itHOFa7",
        "colab": {
          "base_uri": "https://localhost:8080/"
        },
        "outputId": "cab106da-1e6f-4df6-ad2a-bdff014bd4de"
      },
      "source": [
        "for price in bakery_A_prices.values():\n",
        "    print(price)"
      ],
      "execution_count": 37,
      "outputs": [
        {
          "output_type": "stream",
          "text": [
            "60\n",
            "15\n",
            "40\n"
          ],
          "name": "stdout"
        }
      ]
    },
    {
      "cell_type": "code",
      "metadata": {
        "id": "GrFQD90RN-GA",
        "colab": {
          "base_uri": "https://localhost:8080/"
        },
        "outputId": "0779e455-db61-40a6-d99b-169c6c78b078"
      },
      "source": [
        "for product, price in bakery_A_prices.items():\n",
        "    print(product, price)"
      ],
      "execution_count": 38,
      "outputs": [
        {
          "output_type": "stream",
          "text": [
            "bread 60\n",
            "cracker 15\n",
            "croissant 40\n"
          ],
          "name": "stdout"
        }
      ]
    },
    {
      "cell_type": "code",
      "metadata": {
        "id": "wDjBMZwIOImE",
        "colab": {
          "base_uri": "https://localhost:8080/"
        },
        "outputId": "7c5f1e19-aa6a-44e2-aa2e-10c64305c643"
      },
      "source": [
        "## Update / Modification\n",
        "print(bakery_A_prices['bread'])\n",
        "bakery_A_prices['bread'] *= 0.8\n",
        "print(bakery_A_prices['bread'])"
      ],
      "execution_count": 39,
      "outputs": [
        {
          "output_type": "stream",
          "text": [
            "60\n",
            "48.0\n"
          ],
          "name": "stdout"
        }
      ]
    },
    {
      "cell_type": "code",
      "metadata": {
        "id": "JELCtaFIOKqz",
        "colab": {
          "base_uri": "https://localhost:8080/"
        },
        "outputId": "a813f173-35c4-472d-8f0f-d61bc6441ddb"
      },
      "source": [
        "## Adding Elements\n",
        "print(bakery_A_prices)\n",
        "bakery_A_prices['coffee'] = 110\n",
        "print(bakery_A_prices)"
      ],
      "execution_count": 40,
      "outputs": [
        {
          "output_type": "stream",
          "text": [
            "{'bread': 48.0, 'cracker': 15, 'croissant': 40}\n",
            "{'bread': 48.0, 'cracker': 15, 'croissant': 40, 'coffee': 110}\n"
          ],
          "name": "stdout"
        }
      ]
    },
    {
      "cell_type": "code",
      "metadata": {
        "id": "R4ffVkIQOMzI",
        "colab": {
          "base_uri": "https://localhost:8080/",
          "height": 231
        },
        "outputId": "dc8c901d-942f-454c-d02a-f76cb0d9d3b6"
      },
      "source": [
        "## Removing Elements\n",
        "print(bakery_A_prices)\n",
        "print(bakery_A_prices.pop('cracker'))\n",
        "print(bakery_A_prices)"
      ],
      "execution_count": 42,
      "outputs": [
        {
          "output_type": "stream",
          "text": [
            "{'bread': 48.0, 'croissant': 40, 'coffee': 110}\n"
          ],
          "name": "stdout"
        },
        {
          "output_type": "error",
          "ename": "KeyError",
          "evalue": "ignored",
          "traceback": [
            "\u001b[0;31m---------------------------------------------------------------------------\u001b[0m",
            "\u001b[0;31mKeyError\u001b[0m                                  Traceback (most recent call last)",
            "\u001b[0;32m<ipython-input-42-a66517fbcd44>\u001b[0m in \u001b[0;36m<module>\u001b[0;34m()\u001b[0m\n\u001b[1;32m      1\u001b[0m \u001b[0;31m## Removing Elements\u001b[0m\u001b[0;34m\u001b[0m\u001b[0;34m\u001b[0m\u001b[0;34m\u001b[0m\u001b[0m\n\u001b[1;32m      2\u001b[0m \u001b[0mprint\u001b[0m\u001b[0;34m(\u001b[0m\u001b[0mbakery_A_prices\u001b[0m\u001b[0;34m)\u001b[0m\u001b[0;34m\u001b[0m\u001b[0;34m\u001b[0m\u001b[0m\n\u001b[0;32m----> 3\u001b[0;31m \u001b[0mprint\u001b[0m\u001b[0;34m(\u001b[0m\u001b[0mbakery_A_prices\u001b[0m\u001b[0;34m.\u001b[0m\u001b[0mpop\u001b[0m\u001b[0;34m(\u001b[0m\u001b[0;34m'cracker'\u001b[0m\u001b[0;34m)\u001b[0m\u001b[0;34m)\u001b[0m\u001b[0;34m\u001b[0m\u001b[0;34m\u001b[0m\u001b[0m\n\u001b[0m\u001b[1;32m      4\u001b[0m \u001b[0mprint\u001b[0m\u001b[0;34m(\u001b[0m\u001b[0mbakery_A_prices\u001b[0m\u001b[0;34m)\u001b[0m\u001b[0;34m\u001b[0m\u001b[0;34m\u001b[0m\u001b[0m\n",
            "\u001b[0;31mKeyError\u001b[0m: 'cracker'"
          ]
        }
      ]
    },
    {
      "cell_type": "markdown",
      "metadata": {
        "id": "VbxC7L4BPbfs"
      },
      "source": [
        "###**Dataset Operations**\n",
        "For this section, we will use the sets below to practice some practical dataset operations."
      ]
    },
    {
      "cell_type": "code",
      "metadata": {
        "id": "_0GqtEsSPl06"
      },
      "source": [
        "cpe_courses = [\"Object-Oriented Programming\", \"Data Structures and Algorithms\", \"Discrete Mathematics\", \"Linear Algebra\",\n",
        "               \"Database Management\",\"Logic Circuits\", \"Computer Automation\",\"Digital Signals Processing\", \"Computer System Architecture and Organization\"]\n",
        "cs_courses = [\"Object-Oriented Programming\", \"Data Structures and Algorithms\", \"Automata\", \"Programming Language Theory\",\n",
        "             \"Discrete Mathematics\", \"Database Management\", \"Human Computer Interaction\", \"Information Security\", \"Information Management\"]"
      ],
      "execution_count": 43,
      "outputs": []
    },
    {
      "cell_type": "code",
      "metadata": {
        "id": "h6HPfBtAPoP4"
      },
      "source": [
        "cpe = set(cpe_courses)\n",
        "cs = set(cs_courses)"
      ],
      "execution_count": 44,
      "outputs": []
    },
    {
      "cell_type": "markdown",
      "metadata": {
        "id": "Fs6krLMWPsiR"
      },
      "source": [
        "####**Inner Join**"
      ]
    },
    {
      "cell_type": "code",
      "metadata": {
        "id": "qg6rN0A0PxVQ",
        "colab": {
          "base_uri": "https://localhost:8080/"
        },
        "outputId": "c7dc4674-5b6f-4bd8-c721-108f64a97ef3"
      },
      "source": [
        "## Find the common things between the sets\n",
        "## Intersection\n",
        "common = cpe.intersection(cs)\n",
        "common ## inner join"
      ],
      "execution_count": 45,
      "outputs": [
        {
          "output_type": "execute_result",
          "data": {
            "text/plain": [
              "{'Data Structures and Algorithms',\n",
              " 'Database Management',\n",
              " 'Discrete Mathematics',\n",
              " 'Object-Oriented Programming'}"
            ]
          },
          "metadata": {
            "tags": []
          },
          "execution_count": 45
        }
      ]
    },
    {
      "cell_type": "markdown",
      "metadata": {
        "id": "WXC2SOhTP1a4"
      },
      "source": [
        "####**Left Join**"
      ]
    },
    {
      "cell_type": "code",
      "metadata": {
        "id": "Wu_1EwwlP4sQ",
        "colab": {
          "base_uri": "https://localhost:8080/"
        },
        "outputId": "86a856d4-697d-4661-8688-3a80bd355d63"
      },
      "source": [
        "cpe_ljoin = common.union(cpe)\n",
        "cpe_ljoin"
      ],
      "execution_count": 46,
      "outputs": [
        {
          "output_type": "execute_result",
          "data": {
            "text/plain": [
              "{'Computer Automation',\n",
              " 'Computer System Architecture and Organization',\n",
              " 'Data Structures and Algorithms',\n",
              " 'Database Management',\n",
              " 'Digital Signals Processing',\n",
              " 'Discrete Mathematics',\n",
              " 'Linear Algebra',\n",
              " 'Logic Circuits',\n",
              " 'Object-Oriented Programming'}"
            ]
          },
          "metadata": {
            "tags": []
          },
          "execution_count": 46
        }
      ]
    },
    {
      "cell_type": "markdown",
      "metadata": {
        "id": "-nuwdAqEP9RJ"
      },
      "source": [
        "####**Right Join**"
      ]
    },
    {
      "cell_type": "code",
      "metadata": {
        "id": "Nszrs9NvQCIK",
        "colab": {
          "base_uri": "https://localhost:8080/"
        },
        "outputId": "c36faf42-356d-4781-c62f-a07bcb99c093"
      },
      "source": [
        "cs_rjoin = common.union(cs)\n",
        "cs_rjoin"
      ],
      "execution_count": 47,
      "outputs": [
        {
          "output_type": "execute_result",
          "data": {
            "text/plain": [
              "{'Automata',\n",
              " 'Data Structures and Algorithms',\n",
              " 'Database Management',\n",
              " 'Discrete Mathematics',\n",
              " 'Human Computer Interaction',\n",
              " 'Information Management',\n",
              " 'Information Security',\n",
              " 'Object-Oriented Programming',\n",
              " 'Programming Language Theory'}"
            ]
          },
          "metadata": {
            "tags": []
          },
          "execution_count": 47
        }
      ]
    },
    {
      "cell_type": "markdown",
      "metadata": {
        "id": "eAKj_eRUQHJA"
      },
      "source": [
        "####**Left Exclusive Join**"
      ]
    },
    {
      "cell_type": "code",
      "metadata": {
        "id": "wI3ghRwaQFWA",
        "colab": {
          "base_uri": "https://localhost:8080/"
        },
        "outputId": "664de1b9-bb9b-40a7-8f3d-db7f3d6c079d"
      },
      "source": [
        "cpe_exljoin = cpe.difference(cs)\n",
        "cpe_exljoin"
      ],
      "execution_count": 48,
      "outputs": [
        {
          "output_type": "execute_result",
          "data": {
            "text/plain": [
              "{'Computer Automation',\n",
              " 'Computer System Architecture and Organization',\n",
              " 'Digital Signals Processing',\n",
              " 'Linear Algebra',\n",
              " 'Logic Circuits'}"
            ]
          },
          "metadata": {
            "tags": []
          },
          "execution_count": 48
        }
      ]
    },
    {
      "cell_type": "markdown",
      "metadata": {
        "id": "iVY8U8heQSgD"
      },
      "source": [
        "####**Right Exclusive Join**"
      ]
    },
    {
      "cell_type": "code",
      "metadata": {
        "id": "BepkJOghQW45",
        "colab": {
          "base_uri": "https://localhost:8080/"
        },
        "outputId": "df35b12f-6c2a-426c-85ab-09966970c0ea"
      },
      "source": [
        "cs_exrjoin = cs.difference(cpe)\n",
        "cs_exrjoin"
      ],
      "execution_count": 49,
      "outputs": [
        {
          "output_type": "execute_result",
          "data": {
            "text/plain": [
              "{'Automata',\n",
              " 'Human Computer Interaction',\n",
              " 'Information Management',\n",
              " 'Information Security',\n",
              " 'Programming Language Theory'}"
            ]
          },
          "metadata": {
            "tags": []
          },
          "execution_count": 49
        }
      ]
    },
    {
      "cell_type": "markdown",
      "metadata": {
        "id": "KoMrboV2QajB"
      },
      "source": [
        "####**Full Outer Join**"
      ]
    },
    {
      "cell_type": "code",
      "metadata": {
        "id": "vmUMzvIsQd1R",
        "colab": {
          "base_uri": "https://localhost:8080/"
        },
        "outputId": "803a017f-e662-49ac-9796-7ff955e90635"
      },
      "source": [
        "## Union\n",
        "full_outer = cpe.union(cs)\n",
        "full_outer"
      ],
      "execution_count": 50,
      "outputs": [
        {
          "output_type": "execute_result",
          "data": {
            "text/plain": [
              "{'Automata',\n",
              " 'Computer Automation',\n",
              " 'Computer System Architecture and Organization',\n",
              " 'Data Structures and Algorithms',\n",
              " 'Database Management',\n",
              " 'Digital Signals Processing',\n",
              " 'Discrete Mathematics',\n",
              " 'Human Computer Interaction',\n",
              " 'Information Management',\n",
              " 'Information Security',\n",
              " 'Linear Algebra',\n",
              " 'Logic Circuits',\n",
              " 'Object-Oriented Programming',\n",
              " 'Programming Language Theory'}"
            ]
          },
          "metadata": {
            "tags": []
          },
          "execution_count": 50
        }
      ]
    },
    {
      "cell_type": "markdown",
      "metadata": {
        "id": "-S4GlO7lQgYG"
      },
      "source": [
        "####**Full Outer Exclusive Join**"
      ]
    },
    {
      "cell_type": "code",
      "metadata": {
        "id": "4IwU4HaeQoJJ",
        "colab": {
          "base_uri": "https://localhost:8080/"
        },
        "outputId": "fb344c95-9dc1-4846-d86c-8ee7b6c90d8a"
      },
      "source": [
        "## XOR\n",
        "full_xouter = (cpe.difference(cs)).union(cs.difference(cpe))\n",
        "full_xouter"
      ],
      "execution_count": 51,
      "outputs": [
        {
          "output_type": "execute_result",
          "data": {
            "text/plain": [
              "{'Automata',\n",
              " 'Computer Automation',\n",
              " 'Computer System Architecture and Organization',\n",
              " 'Digital Signals Processing',\n",
              " 'Human Computer Interaction',\n",
              " 'Information Management',\n",
              " 'Information Security',\n",
              " 'Linear Algebra',\n",
              " 'Logic Circuits',\n",
              " 'Programming Language Theory'}"
            ]
          },
          "metadata": {
            "tags": []
          },
          "execution_count": 51
        }
      ]
    },
    {
      "cell_type": "markdown",
      "metadata": {
        "id": "24FemriuRBNY"
      },
      "source": [
        "###**Scratch Area**\n",
        "You can use the area below to try your own code."
      ]
    },
    {
      "cell_type": "markdown",
      "metadata": {
        "id": "1QYbg1KeNi7M"
      },
      "source": [
        "###**Dataset Operations**"
      ]
    },
    {
      "cell_type": "code",
      "metadata": {
        "id": "1RE0xoRuRRgQ"
      },
      "source": [
        "boys_fandoms = [\"Twice\", \"Lebron James\", \"5SOS\",\"Kyrie Irving\",\"Anime\",\"Harry Potter\",\"Coldplay\", \"Pewdiepie\"]\n",
        "girls_fandoms = [\"Blackpink\", \"Harry Potter\", \"Maroon 5\", \"The Script\",\"Anime\",\"IU\",\"Itzy\"]"
      ],
      "execution_count": 56,
      "outputs": []
    },
    {
      "cell_type": "code",
      "metadata": {
        "id": "fs-RQqA1UzIT"
      },
      "source": [
        "boys = set(boys_fandoms)\n",
        "girls = set(girls_fandoms)\n",
        "\n"
      ],
      "execution_count": 57,
      "outputs": []
    },
    {
      "cell_type": "markdown",
      "metadata": {
        "id": "ZIr2JS0TNcQg"
      },
      "source": [
        "####**Inner Join**"
      ]
    },
    {
      "cell_type": "code",
      "metadata": {
        "id": "S-28LWos7d1G",
        "colab": {
          "base_uri": "https://localhost:8080/"
        },
        "outputId": "9440907d-34c5-48f7-9350-c0d478d966d5"
      },
      "source": [
        "## Find the common things between the sets\n",
        "## Intersection\n",
        "common = boys.intersection(girls)\n",
        "common ## inner join"
      ],
      "execution_count": 58,
      "outputs": [
        {
          "output_type": "execute_result",
          "data": {
            "text/plain": [
              "{'Anime', 'Harry Potter'}"
            ]
          },
          "metadata": {
            "tags": []
          },
          "execution_count": 58
        }
      ]
    },
    {
      "cell_type": "markdown",
      "metadata": {
        "id": "GTHzr9ErNvj4"
      },
      "source": [
        "####**Left Join**"
      ]
    },
    {
      "cell_type": "code",
      "metadata": {
        "colab": {
          "base_uri": "https://localhost:8080/"
        },
        "id": "ZWh2VQdONwfr",
        "outputId": "271a1c59-00a7-4e3e-ef5b-434645c519b0"
      },
      "source": [
        "boys_ljoin = common.union(boys)\n",
        "boys_ljoin"
      ],
      "execution_count": 59,
      "outputs": [
        {
          "output_type": "execute_result",
          "data": {
            "text/plain": [
              "{'5SOS',\n",
              " 'Anime',\n",
              " 'Coldplay',\n",
              " 'Harry Potter',\n",
              " 'Kyrie Irving',\n",
              " 'Lebron James',\n",
              " 'Pewdiepie',\n",
              " 'Twice'}"
            ]
          },
          "metadata": {
            "tags": []
          },
          "execution_count": 59
        }
      ]
    },
    {
      "cell_type": "markdown",
      "metadata": {
        "id": "ovzcUKFiQNdg"
      },
      "source": [
        "####**Right Join**"
      ]
    },
    {
      "cell_type": "code",
      "metadata": {
        "colab": {
          "base_uri": "https://localhost:8080/"
        },
        "id": "dNURAvuHQTGY",
        "outputId": "0f3884f8-315f-4648-f044-122737eaba0e"
      },
      "source": [
        "girls_rjoin = common.union(girls)\n",
        "girls_rjoin"
      ],
      "execution_count": 60,
      "outputs": [
        {
          "output_type": "execute_result",
          "data": {
            "text/plain": [
              "{'Anime', 'Blackpink', 'Harry Potter', 'IU', 'Itzy', 'Maroon 5', 'The Script'}"
            ]
          },
          "metadata": {
            "tags": []
          },
          "execution_count": 60
        }
      ]
    },
    {
      "cell_type": "markdown",
      "metadata": {
        "id": "u10US1poTqhn"
      },
      "source": [
        "####**Left Exclusive Join**"
      ]
    },
    {
      "cell_type": "code",
      "metadata": {
        "colab": {
          "base_uri": "https://localhost:8080/"
        },
        "id": "FxjbSblzTrje",
        "outputId": "c05339c6-7733-41ad-bbb3-df6ae878401e"
      },
      "source": [
        "boys_exljoin = boys.difference(girls)\n",
        "boys_exljoin"
      ],
      "execution_count": 61,
      "outputs": [
        {
          "output_type": "execute_result",
          "data": {
            "text/plain": [
              "{'5SOS', 'Coldplay', 'Kyrie Irving', 'Lebron James', 'Pewdiepie', 'Twice'}"
            ]
          },
          "metadata": {
            "tags": []
          },
          "execution_count": 61
        }
      ]
    },
    {
      "cell_type": "markdown",
      "metadata": {
        "id": "bi9P52xNT---"
      },
      "source": [
        "####**Right Exclusive Join**"
      ]
    },
    {
      "cell_type": "code",
      "metadata": {
        "colab": {
          "base_uri": "https://localhost:8080/"
        },
        "id": "oCsKekZ5T-Kn",
        "outputId": "485950b6-a279-4ebe-c5b1-4a7a34ba824b"
      },
      "source": [
        "girls_exrjoin = girls.difference(boys)\n",
        "girls_exrjoin"
      ],
      "execution_count": 63,
      "outputs": [
        {
          "output_type": "execute_result",
          "data": {
            "text/plain": [
              "{'Blackpink', 'IU', 'Itzy', 'Maroon 5', 'The Script'}"
            ]
          },
          "metadata": {
            "tags": []
          },
          "execution_count": 63
        }
      ]
    },
    {
      "cell_type": "markdown",
      "metadata": {
        "id": "Y7DwV4RJUTMc"
      },
      "source": [
        "####**Full Outer Join**"
      ]
    },
    {
      "cell_type": "code",
      "metadata": {
        "colab": {
          "base_uri": "https://localhost:8080/"
        },
        "id": "XuS1d6DBUT5l",
        "outputId": "082dfd16-2596-4171-eb61-09ef557d70e2"
      },
      "source": [
        "full_outer = boys.union(girls)\n",
        "full_outer"
      ],
      "execution_count": 64,
      "outputs": [
        {
          "output_type": "execute_result",
          "data": {
            "text/plain": [
              "{'5SOS',\n",
              " 'Anime',\n",
              " 'Blackpink',\n",
              " 'Coldplay',\n",
              " 'Harry Potter',\n",
              " 'IU',\n",
              " 'Itzy',\n",
              " 'Kyrie Irving',\n",
              " 'Lebron James',\n",
              " 'Maroon 5',\n",
              " 'Pewdiepie',\n",
              " 'The Script',\n",
              " 'Twice'}"
            ]
          },
          "metadata": {
            "tags": []
          },
          "execution_count": 64
        }
      ]
    },
    {
      "cell_type": "markdown",
      "metadata": {
        "id": "7qNPbuE9UgUq"
      },
      "source": [
        "####**Full Outer Exclusive Join**"
      ]
    },
    {
      "cell_type": "code",
      "metadata": {
        "colab": {
          "base_uri": "https://localhost:8080/"
        },
        "id": "2QDmnJgqUhB0",
        "outputId": "b16f9039-e952-4bba-d74c-27722120bd62"
      },
      "source": [
        "## XOR\n",
        "full_xouter = (boys.difference(girls)).union(girls.difference(boys))\n",
        "full_xouter"
      ],
      "execution_count": 65,
      "outputs": [
        {
          "output_type": "execute_result",
          "data": {
            "text/plain": [
              "{'5SOS',\n",
              " 'Blackpink',\n",
              " 'Coldplay',\n",
              " 'IU',\n",
              " 'Itzy',\n",
              " 'Kyrie Irving',\n",
              " 'Lebron James',\n",
              " 'Maroon 5',\n",
              " 'Pewdiepie',\n",
              " 'The Script',\n",
              " 'Twice'}"
            ]
          },
          "metadata": {
            "tags": []
          },
          "execution_count": 65
        }
      ]
    }
  ]
}